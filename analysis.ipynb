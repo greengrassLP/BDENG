{
 "cells": [
  {
   "cell_type": "code",
   "execution_count": 2,
   "id": "83c3d5a5d62c3345",
   "metadata": {
    "ExecuteTime": {
     "end_time": "2025-06-23T20:07:46.141539Z",
     "start_time": "2025-06-23T20:07:44.440124Z"
    }
   },
   "outputs": [
    {
     "data": {
      "application/vnd.jupyter.widget-view+json": {
       "model_id": "3e8ddbb8b0204566b536d84930ff2d91",
       "version_major": 2,
       "version_minor": 0
      },
      "text/plain": [
       "interactive(children=(Dropdown(description='Ort auswählen:', layout=Layout(width='50%'), options=(('Wien (Aust…"
      ]
     },
     "metadata": {},
     "output_type": "display_data"
    },
    {
     "data": {
      "text/plain": [
       "<function __main__.update_plot(selection)>"
      ]
     },
     "execution_count": 2,
     "metadata": {},
     "output_type": "execute_result"
    }
   ],
   "source": [
    "import pandas as pd\n",
    "import matplotlib.pyplot as plt\n",
    "from scipy.stats import pearsonr\n",
    "import ipywidgets as widgets\n",
    "from IPython.display import display\n",
    "\n",
    "# === Daten einlesen ===\n",
    "weather_df = pd.read_csv(\"weather_europe_2020.csv\")  # enthält: City, Date, Temperature\n",
    "energy_df = pd.read_csv(\"energiepreise_europe.csv\", low_memory=False)\n",
    "\n",
    "# === Wetterdaten vorbereiten ===\n",
    "weather_df[\"Date\"] = pd.to_datetime(weather_df[\"Date\"])\n",
    "\n",
    "# === Energiedaten vorbereiten ===\n",
    "energy_df[\"hora\"] = energy_df[\"hora\"].astype(str)\n",
    "energy_df[\"hora\"] = energy_df[\"hora\"].str.zfill(2) + \":00\"\n",
    "\n",
    "# 24:00 Fälle korrigieren\n",
    "mask_24 = energy_df[\"hora\"] == \"24:00\"\n",
    "energy_df.loc[mask_24, \"hora\"] = \"00:00\"\n",
    "energy_df.loc[mask_24, \"fecha\"] = pd.to_datetime(energy_df.loc[mask_24, \"fecha\"]) + pd.Timedelta(days=1)\n",
    "\n",
    "# Kombiniertes datetime-Feld\n",
    "energy_df[\"fecha\"] = pd.to_datetime(energy_df[\"fecha\"])\n",
    "energy_df[\"datetime\"] = pd.to_datetime(energy_df[\"fecha\"].dt.strftime(\"%Y-%m-%d\") + \" \" + energy_df[\"hora\"])\n",
    "\n",
    "# === Mapping: Land → Stadt ===\n",
    "land_city_map = {\n",
    "    \"Austria\": \"Wien\",\n",
    "    \"Germany\": \"Berlin\",\n",
    "    \"France\": \"Paris\",\n",
    "    \"Spain\": \"Madrid\",\n",
    "    \"Netherlands\": \"Amsterdam\"\n",
    "}\n",
    "\n",
    "# === Dropdown ===\n",
    "dropdown = widgets.Dropdown(\n",
    "    options=[(f\"{city} ({land})\", (city, land)) for land, city in land_city_map.items()],\n",
    "    description=\"Ort auswählen:\",\n",
    "    style={'description_width': 'initial'},\n",
    "    layout=widgets.Layout(width='50%')\n",
    ")\n",
    "\n",
    "# === Visualisierung ===\n",
    "def update_plot(selection):\n",
    "    city, land = selection\n",
    "\n",
    "    # Temperaturdaten filtern\n",
    "    temp_city = weather_df[weather_df[\"City\"] == city]\n",
    "    temp_daily = temp_city.groupby(temp_city[\"Date\"].dt.date)[\"Temperature\"].mean()\n",
    "\n",
    "    # Energiedaten filtern\n",
    "    region_code = energy_df[energy_df[\"Land\"] == land][\"sistema\"].unique()\n",
    "    if len(region_code) == 0:\n",
    "        print(f\"⚠️ Kein passender Region-Code für {land}\")\n",
    "        return\n",
    "    code = region_code[0]\n",
    "    energy_region = energy_df[energy_df[\"sistema\"] == code]\n",
    "    energy_daily = energy_region.groupby(energy_region[\"datetime\"].dt.date)[\"precio\"].mean()\n",
    "\n",
    "    # Kombinieren\n",
    "    combined = pd.DataFrame({\n",
    "        \"Temperature\": temp_daily,\n",
    "        \"EnergyPrice\": energy_daily.reindex(temp_daily.index)\n",
    "    }).dropna()\n",
    "\n",
    "    if combined.empty:\n",
    "        print(f\"⚠️ Nicht genügend Daten für {city} ({land}).\")\n",
    "        return\n",
    "\n",
    "    # Korrelation\n",
    "    corr, p = pearsonr(combined[\"Temperature\"], combined[\"EnergyPrice\"])\n",
    "\n",
    "    # Zeitverlauf\n",
    "    fig, axs = plt.subplots(1, 2, figsize=(14, 5))\n",
    "\n",
    "    axs[0].plot(combined.index, combined[\"Temperature\"], color=\"red\")\n",
    "    axs[0].set_title(f\"Temperatur in {city} (2020)\")\n",
    "    axs[0].set_ylabel(\"Temperatur [°C]\")\n",
    "    axs[0].tick_params(axis='x', rotation=45)\n",
    "\n",
    "    axs[1].plot(combined.index, combined[\"EnergyPrice\"], color=\"blue\")\n",
    "    axs[1].set_title(f\"Energiepreis in {land} (2020)\")\n",
    "    axs[1].set_ylabel(\"Preis [€/MWh]\")\n",
    "    axs[1].tick_params(axis='x', rotation=45)\n",
    "\n",
    "    plt.suptitle(f\"Korrelation: r = {corr:.2f}, p = {p:.1e}\")\n",
    "    plt.tight_layout()\n",
    "    plt.show()\n",
    "\n",
    "    # Scatterplot\n",
    "    plt.figure(figsize=(6,5))\n",
    "    plt.scatter(combined[\"Temperature\"], combined[\"EnergyPrice\"], alpha=0.6)\n",
    "    plt.xlabel(\"Temperatur [°C]\")\n",
    "    plt.ylabel(\"Energiepreis [€/MWh]\")\n",
    "    plt.title(f\"Scatterplot: {city} / {land}\\nr = {corr:.2f}, p = {p:.1e}\")\n",
    "    plt.grid(True)\n",
    "    plt.tight_layout()\n",
    "    plt.show()\n",
    "\n",
    "    # Interpretation\n",
    "    print(\"📊 Pearson-Korrelation:\", f\"{corr:.3f}\")\n",
    "    print(\"🧪 p-Wert:\", f\"{p:.2e}\")\n",
    "    print(\"💬 Interpretation:\")\n",
    "    if p < 0.05:\n",
    "        print(\"✅ Statistisch signifikant.\")\n",
    "        if corr < 0:\n",
    "            print(\"→ Höhere Temperaturen gehen mit niedrigeren Energiepreisen einher.\")\n",
    "        else:\n",
    "            print(\"→ Höhere Temperaturen gehen mit höheren Energiepreisen einher.\")\n",
    "    else:\n",
    "        print(\"⚠️ Kein signifikanter Zusammenhang feststellbar.\")\n",
    "\n",
    "# === Anzeige starten ===\n",
    "widgets.interact(update_plot, selection=dropdown)\n"
   ]
  },
  {
   "cell_type": "code",
   "execution_count": null,
   "id": "fc02102e-b4b8-469e-abea-39df22be3fbe",
   "metadata": {},
   "outputs": [],
   "source": []
  }
 ],
 "metadata": {
  "kernelspec": {
   "display_name": "Python 3",
   "language": "python",
   "name": "python3"
  },
  "language_info": {
   "codemirror_mode": {
    "name": "ipython",
    "version": 3
   },
   "file_extension": ".py",
   "mimetype": "text/x-python",
   "name": "python",
   "nbconvert_exporter": "python",
   "pygments_lexer": "ipython3",
   "version": "3.8.8"
  }
 },
 "nbformat": 4,
 "nbformat_minor": 5
}
