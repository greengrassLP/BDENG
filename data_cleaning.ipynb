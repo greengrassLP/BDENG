{
 "cells": [
  {
   "cell_type": "markdown",
   "id": "f6229671-08c8-4ab5-9550-af3f0f68e5b4",
   "metadata": {},
   "source": [
    "# Data Cleaning Exercise\n",
    "\n",
    "Cleaning your data is crucial when starting a new data engineering project because it ensures the accuracy, consistency, and reliability of the dataset. Dirty data, which may include duplicates, missing values, and errors, can lead to incorrect analysis and insights, ultimately affecting the decision-making process. Data cleaning helps in identifying and rectifying these issues, providing a solid foundation for building effective data models and analytics. Additionally, clean data improves the performance of algorithms and enhances the overall efficiency of the project, leading to more trustworthy and actionable results."
   ]
  },
  {
   "cell_type": "markdown",
   "id": "bbc2d260-4fd6-4e01-89bc-fe4747c3e1ea",
   "metadata": {},
   "source": [
    "Use Python, ```numpy```, ```pandas``` and/or ```matplotlib``` to analyse and clean your batch data:"
   ]
  },
  {
   "cell_type": "markdown",
   "id": "416e6c68-a09c-4627-b1aa-603a26d1fff7",
   "metadata": {},
   "source": [
    "## Import Libraries"
   ]
  },
  {
   "cell_type": "code",
   "execution_count": 1,
   "id": "8f0c4277-3351-442e-b87b-f8b678b2f1ab",
   "metadata": {},
   "outputs": [],
   "source": [
    "import os\n",
    "import pandas as pd\n",
    "import numpy as np\n",
    "\n",
    "RAW_PATH = \"../data/raw/EU_energy_data.csv\"\n",
    "\n",
    "CLEAN_PATH = \"data\\ cleaning/data/processed/clean_EU_energy_data.csv\"\n"
   ]
  },
  {
   "cell_type": "markdown",
   "id": "baf3bbbb-caa4-47b2-bdbd-d38a183868f2",
   "metadata": {},
   "source": [
    "## Load Data\n",
    "\n",
    "Link to data source: ```<TODO>```"
   ]
  },
  {
   "cell_type": "code",
   "execution_count": 2,
   "id": "79e789d3-f9e7-43e4-a1e6-6d8ef254d2e9",
   "metadata": {},
   "outputs": [
    {
     "data": {
      "text/html": [
       "<div>\n",
       "<style scoped>\n",
       "    .dataframe tbody tr th:only-of-type {\n",
       "        vertical-align: middle;\n",
       "    }\n",
       "\n",
       "    .dataframe tbody tr th {\n",
       "        vertical-align: top;\n",
       "    }\n",
       "\n",
       "    .dataframe thead th {\n",
       "        text-align: right;\n",
       "    }\n",
       "</style>\n",
       "<table border=\"1\" class=\"dataframe\">\n",
       "  <thead>\n",
       "    <tr style=\"text-align: right;\">\n",
       "      <th></th>\n",
       "      <th>id</th>\n",
       "      <th>date</th>\n",
       "      <th>hour</th>\n",
       "      <th>region</th>\n",
       "      <th>flag</th>\n",
       "      <th>price</th>\n",
       "      <th>currency_type</th>\n",
       "      <th>data_source</th>\n",
       "      <th>last_updated</th>\n",
       "    </tr>\n",
       "  </thead>\n",
       "  <tbody>\n",
       "    <tr>\n",
       "      <th>0</th>\n",
       "      <td>0</td>\n",
       "      <td>2010-07-21</td>\n",
       "      <td>1</td>\n",
       "      <td>HU</td>\n",
       "      <td>1</td>\n",
       "      <td>39.287</td>\n",
       "      <td>1</td>\n",
       "      <td>6</td>\n",
       "      <td>2021-10-01 12:39:53</td>\n",
       "    </tr>\n",
       "    <tr>\n",
       "      <th>1</th>\n",
       "      <td>1</td>\n",
       "      <td>2010-07-21</td>\n",
       "      <td>2</td>\n",
       "      <td>HU</td>\n",
       "      <td>1</td>\n",
       "      <td>35.925</td>\n",
       "      <td>1</td>\n",
       "      <td>6</td>\n",
       "      <td>2021-10-01 12:39:53</td>\n",
       "    </tr>\n",
       "    <tr>\n",
       "      <th>2</th>\n",
       "      <td>2</td>\n",
       "      <td>2010-07-21</td>\n",
       "      <td>3</td>\n",
       "      <td>HU</td>\n",
       "      <td>1</td>\n",
       "      <td>33.223</td>\n",
       "      <td>1</td>\n",
       "      <td>6</td>\n",
       "      <td>2021-10-01 12:39:53</td>\n",
       "    </tr>\n",
       "    <tr>\n",
       "      <th>3</th>\n",
       "      <td>3</td>\n",
       "      <td>2010-07-21</td>\n",
       "      <td>4</td>\n",
       "      <td>HU</td>\n",
       "      <td>1</td>\n",
       "      <td>30.842</td>\n",
       "      <td>1</td>\n",
       "      <td>6</td>\n",
       "      <td>2021-10-01 12:39:53</td>\n",
       "    </tr>\n",
       "    <tr>\n",
       "      <th>4</th>\n",
       "      <td>4</td>\n",
       "      <td>2010-07-21</td>\n",
       "      <td>5</td>\n",
       "      <td>HU</td>\n",
       "      <td>1</td>\n",
       "      <td>33.395</td>\n",
       "      <td>1</td>\n",
       "      <td>6</td>\n",
       "      <td>2021-10-01 12:39:53</td>\n",
       "    </tr>\n",
       "  </tbody>\n",
       "</table>\n",
       "</div>"
      ],
      "text/plain": [
       "   id       date  hour region  flag   price  currency_type  data_source  \\\n",
       "0   0 2010-07-21     1     HU     1  39.287              1            6   \n",
       "1   1 2010-07-21     2     HU     1  35.925              1            6   \n",
       "2   2 2010-07-21     3     HU     1  33.223              1            6   \n",
       "3   3 2010-07-21     4     HU     1  30.842              1            6   \n",
       "4   4 2010-07-21     5     HU     1  33.395              1            6   \n",
       "\n",
       "          last_updated  \n",
       "0  2021-10-01 12:39:53  \n",
       "1  2021-10-01 12:39:53  \n",
       "2  2021-10-01 12:39:53  \n",
       "3  2021-10-01 12:39:53  \n",
       "4  2021-10-01 12:39:53  "
      ]
     },
     "metadata": {},
     "output_type": "display_data"
    }
   ],
   "source": [
    "# 1. Load raw CSV\n",
    "# Parse 'fecha' as date, keep other columns as appropriate types\n",
    "df = pd.read_csv(\n",
    "    RAW_PATH,\n",
    "    parse_dates=[\"fecha\"],\n",
    "    dayfirst=True,\n",
    "    dtype={\"hora\": int, \"sistema\": str, \"bandera\": int, \"tipo_moneda\": int, \"origen_dato\": int}\n",
    ")\n",
    "\n",
    "# 2. Rename columns to English\n",
    "df.rename(columns={\n",
    "    \"Unnamed: 0\":          \"id\",\n",
    "    \"fecha\":               \"date\",\n",
    "    \"hora\":                \"hour\",\n",
    "    \"sistema\":             \"region\",\n",
    "    \"bandera\":             \"flag\",\n",
    "    \"precio\":              \"price\",\n",
    "    \"tipo_moneda\":         \"currency_type\",\n",
    "    \"origen_dato\":         \"data_source\",\n",
    "    \"fecha_actualizacion\": \"last_updated\"\n",
    "}, inplace=True)\n",
    "display(df.head())"
   ]
  },
  {
   "cell_type": "markdown",
   "id": "43dc919a-40f5-4254-9d33-3a09ebdb9272",
   "metadata": {},
   "source": [
    "## Understand the Data\n",
    "\n",
    "View the first few rows, get summary statistics and check data types"
   ]
  },
  {
   "cell_type": "code",
   "execution_count": 3,
   "id": "331051c1-ee77-4a8e-81f0-80502341dc80",
   "metadata": {},
   "outputs": [
    {
     "name": "stdout",
     "output_type": "stream",
     "text": [
      "First 5 rows:\n"
     ]
    },
    {
     "data": {
      "text/html": [
       "<div>\n",
       "<style scoped>\n",
       "    .dataframe tbody tr th:only-of-type {\n",
       "        vertical-align: middle;\n",
       "    }\n",
       "\n",
       "    .dataframe tbody tr th {\n",
       "        vertical-align: top;\n",
       "    }\n",
       "\n",
       "    .dataframe thead th {\n",
       "        text-align: right;\n",
       "    }\n",
       "</style>\n",
       "<table border=\"1\" class=\"dataframe\">\n",
       "  <thead>\n",
       "    <tr style=\"text-align: right;\">\n",
       "      <th></th>\n",
       "      <th>id</th>\n",
       "      <th>date</th>\n",
       "      <th>hour</th>\n",
       "      <th>region</th>\n",
       "      <th>flag</th>\n",
       "      <th>price</th>\n",
       "      <th>currency_type</th>\n",
       "      <th>data_source</th>\n",
       "      <th>last_updated</th>\n",
       "    </tr>\n",
       "  </thead>\n",
       "  <tbody>\n",
       "    <tr>\n",
       "      <th>0</th>\n",
       "      <td>0</td>\n",
       "      <td>2010-07-21</td>\n",
       "      <td>1</td>\n",
       "      <td>HU</td>\n",
       "      <td>1</td>\n",
       "      <td>39.287</td>\n",
       "      <td>1</td>\n",
       "      <td>6</td>\n",
       "      <td>2021-10-01 12:39:53</td>\n",
       "    </tr>\n",
       "    <tr>\n",
       "      <th>1</th>\n",
       "      <td>1</td>\n",
       "      <td>2010-07-21</td>\n",
       "      <td>2</td>\n",
       "      <td>HU</td>\n",
       "      <td>1</td>\n",
       "      <td>35.925</td>\n",
       "      <td>1</td>\n",
       "      <td>6</td>\n",
       "      <td>2021-10-01 12:39:53</td>\n",
       "    </tr>\n",
       "    <tr>\n",
       "      <th>2</th>\n",
       "      <td>2</td>\n",
       "      <td>2010-07-21</td>\n",
       "      <td>3</td>\n",
       "      <td>HU</td>\n",
       "      <td>1</td>\n",
       "      <td>33.223</td>\n",
       "      <td>1</td>\n",
       "      <td>6</td>\n",
       "      <td>2021-10-01 12:39:53</td>\n",
       "    </tr>\n",
       "    <tr>\n",
       "      <th>3</th>\n",
       "      <td>3</td>\n",
       "      <td>2010-07-21</td>\n",
       "      <td>4</td>\n",
       "      <td>HU</td>\n",
       "      <td>1</td>\n",
       "      <td>30.842</td>\n",
       "      <td>1</td>\n",
       "      <td>6</td>\n",
       "      <td>2021-10-01 12:39:53</td>\n",
       "    </tr>\n",
       "    <tr>\n",
       "      <th>4</th>\n",
       "      <td>4</td>\n",
       "      <td>2010-07-21</td>\n",
       "      <td>5</td>\n",
       "      <td>HU</td>\n",
       "      <td>1</td>\n",
       "      <td>33.395</td>\n",
       "      <td>1</td>\n",
       "      <td>6</td>\n",
       "      <td>2021-10-01 12:39:53</td>\n",
       "    </tr>\n",
       "  </tbody>\n",
       "</table>\n",
       "</div>"
      ],
      "text/plain": [
       "   id       date  hour region  flag   price  currency_type  data_source  \\\n",
       "0   0 2010-07-21     1     HU     1  39.287              1            6   \n",
       "1   1 2010-07-21     2     HU     1  35.925              1            6   \n",
       "2   2 2010-07-21     3     HU     1  33.223              1            6   \n",
       "3   3 2010-07-21     4     HU     1  30.842              1            6   \n",
       "4   4 2010-07-21     5     HU     1  33.395              1            6   \n",
       "\n",
       "          last_updated  \n",
       "0  2021-10-01 12:39:53  \n",
       "1  2021-10-01 12:39:53  \n",
       "2  2021-10-01 12:39:53  \n",
       "3  2021-10-01 12:39:53  \n",
       "4  2021-10-01 12:39:53  "
      ]
     },
     "metadata": {},
     "output_type": "display_data"
    },
    {
     "name": "stdout",
     "output_type": "stream",
     "text": [
      "\n",
      "Info (dtypes, non-null counts):\n",
      "<class 'pandas.core.frame.DataFrame'>\n",
      "RangeIndex: 1831555 entries, 0 to 1831554\n",
      "Data columns (total 9 columns):\n",
      " #   Column         Dtype         \n",
      "---  ------         -----         \n",
      " 0   id             int64         \n",
      " 1   date           datetime64[ns]\n",
      " 2   hour           int32         \n",
      " 3   region         object        \n",
      " 4   flag           int32         \n",
      " 5   price          float64       \n",
      " 6   currency_type  int32         \n",
      " 7   data_source    int32         \n",
      " 8   last_updated   object        \n",
      "dtypes: datetime64[ns](1), float64(1), int32(4), int64(1), object(2)\n",
      "memory usage: 97.8+ MB\n"
     ]
    },
    {
     "data": {
      "text/plain": [
       "None"
      ]
     },
     "metadata": {},
     "output_type": "display_data"
    },
    {
     "name": "stdout",
     "output_type": "stream",
     "text": [
      "\n",
      "Summary statistics (numeric):\n"
     ]
    },
    {
     "data": {
      "text/html": [
       "<div>\n",
       "<style scoped>\n",
       "    .dataframe tbody tr th:only-of-type {\n",
       "        vertical-align: middle;\n",
       "    }\n",
       "\n",
       "    .dataframe tbody tr th {\n",
       "        vertical-align: top;\n",
       "    }\n",
       "\n",
       "    .dataframe thead th {\n",
       "        text-align: right;\n",
       "    }\n",
       "</style>\n",
       "<table border=\"1\" class=\"dataframe\">\n",
       "  <thead>\n",
       "    <tr style=\"text-align: right;\">\n",
       "      <th></th>\n",
       "      <th>id</th>\n",
       "      <th>hour</th>\n",
       "      <th>flag</th>\n",
       "      <th>price</th>\n",
       "      <th>currency_type</th>\n",
       "      <th>data_source</th>\n",
       "    </tr>\n",
       "  </thead>\n",
       "  <tbody>\n",
       "    <tr>\n",
       "      <th>count</th>\n",
       "      <td>1.831555e+06</td>\n",
       "      <td>1.831555e+06</td>\n",
       "      <td>1.831555e+06</td>\n",
       "      <td>1.831555e+06</td>\n",
       "      <td>1.831555e+06</td>\n",
       "      <td>1.831555e+06</td>\n",
       "    </tr>\n",
       "    <tr>\n",
       "      <th>mean</th>\n",
       "      <td>9.157770e+05</td>\n",
       "      <td>1.250061e+01</td>\n",
       "      <td>5.811756e-01</td>\n",
       "      <td>4.467074e+01</td>\n",
       "      <td>1.043176e+00</td>\n",
       "      <td>2.354575e+00</td>\n",
       "    </tr>\n",
       "    <tr>\n",
       "      <th>std</th>\n",
       "      <td>5.287245e+05</td>\n",
       "      <td>6.923499e+00</td>\n",
       "      <td>4.933667e-01</td>\n",
       "      <td>4.058053e+01</td>\n",
       "      <td>2.032529e-01</td>\n",
       "      <td>1.310058e+00</td>\n",
       "    </tr>\n",
       "    <tr>\n",
       "      <th>min</th>\n",
       "      <td>0.000000e+00</td>\n",
       "      <td>1.000000e+00</td>\n",
       "      <td>0.000000e+00</td>\n",
       "      <td>-1.153100e+02</td>\n",
       "      <td>1.000000e+00</td>\n",
       "      <td>1.000000e+00</td>\n",
       "    </tr>\n",
       "    <tr>\n",
       "      <th>25%</th>\n",
       "      <td>4.578885e+05</td>\n",
       "      <td>6.000000e+00</td>\n",
       "      <td>0.000000e+00</td>\n",
       "      <td>2.705000e+01</td>\n",
       "      <td>1.000000e+00</td>\n",
       "      <td>2.000000e+00</td>\n",
       "    </tr>\n",
       "    <tr>\n",
       "      <th>50%</th>\n",
       "      <td>9.157770e+05</td>\n",
       "      <td>1.300000e+01</td>\n",
       "      <td>1.000000e+00</td>\n",
       "      <td>3.652000e+01</td>\n",
       "      <td>1.000000e+00</td>\n",
       "      <td>2.000000e+00</td>\n",
       "    </tr>\n",
       "    <tr>\n",
       "      <th>75%</th>\n",
       "      <td>1.373666e+06</td>\n",
       "      <td>1.900000e+01</td>\n",
       "      <td>1.000000e+00</td>\n",
       "      <td>4.968000e+01</td>\n",
       "      <td>1.000000e+00</td>\n",
       "      <td>2.000000e+00</td>\n",
       "    </tr>\n",
       "    <tr>\n",
       "      <th>max</th>\n",
       "      <td>1.831554e+06</td>\n",
       "      <td>2.400000e+01</td>\n",
       "      <td>1.000000e+00</td>\n",
       "      <td>2.999260e+03</td>\n",
       "      <td>2.000000e+00</td>\n",
       "      <td>8.000000e+00</td>\n",
       "    </tr>\n",
       "  </tbody>\n",
       "</table>\n",
       "</div>"
      ],
      "text/plain": [
       "                 id          hour          flag         price  currency_type  \\\n",
       "count  1.831555e+06  1.831555e+06  1.831555e+06  1.831555e+06   1.831555e+06   \n",
       "mean   9.157770e+05  1.250061e+01  5.811756e-01  4.467074e+01   1.043176e+00   \n",
       "std    5.287245e+05  6.923499e+00  4.933667e-01  4.058053e+01   2.032529e-01   \n",
       "min    0.000000e+00  1.000000e+00  0.000000e+00 -1.153100e+02   1.000000e+00   \n",
       "25%    4.578885e+05  6.000000e+00  0.000000e+00  2.705000e+01   1.000000e+00   \n",
       "50%    9.157770e+05  1.300000e+01  1.000000e+00  3.652000e+01   1.000000e+00   \n",
       "75%    1.373666e+06  1.900000e+01  1.000000e+00  4.968000e+01   1.000000e+00   \n",
       "max    1.831554e+06  2.400000e+01  1.000000e+00  2.999260e+03   2.000000e+00   \n",
       "\n",
       "        data_source  \n",
       "count  1.831555e+06  \n",
       "mean   2.354575e+00  \n",
       "std    1.310058e+00  \n",
       "min    1.000000e+00  \n",
       "25%    2.000000e+00  \n",
       "50%    2.000000e+00  \n",
       "75%    2.000000e+00  \n",
       "max    8.000000e+00  "
      ]
     },
     "metadata": {},
     "output_type": "display_data"
    }
   ],
   "source": [
    "\n",
    "print(\"First 5 rows:\")\n",
    "display(df.head())\n",
    "\n",
    "print(\"\\nInfo (dtypes, non-null counts):\")\n",
    "display(df.info())\n",
    "\n",
    "print(\"\\nSummary statistics (numeric):\")\n",
    "display(df.describe())"
   ]
  },
  {
   "cell_type": "markdown",
   "id": "2d340e14-7bf2-4caa-aec9-c7d6c441e742",
   "metadata": {},
   "source": [
    "## Handle Missing Data\n",
    "\n",
    "Identify missing values and fill or drop missing values"
   ]
  },
  {
   "cell_type": "code",
   "execution_count": 4,
   "id": "49855535",
   "metadata": {},
   "outputs": [],
   "source": [
    "# A) datetime-Spalte erzeugen\n",
    "df['datetime'] = pd.to_datetime(df['date'], dayfirst=True) \\\n",
    "                 + pd.to_timedelta(df['hour'].astype(int) - 1, unit='h')\n"
   ]
  },
  {
   "cell_type": "code",
   "execution_count": 5,
   "id": "7b594140-0595-423d-8f5c-81faa78de617",
   "metadata": {},
   "outputs": [
    {
     "name": "stdout",
     "output_type": "stream",
     "text": [
      "id               0\n",
      "date             0\n",
      "hour             0\n",
      "region           0\n",
      "flag             0\n",
      "price            0\n",
      "currency_type    0\n",
      "data_source      0\n",
      "last_updated     0\n",
      "datetime         0\n",
      "dtype: int64\n",
      "id               0\n",
      "date             0\n",
      "hour             0\n",
      "region           0\n",
      "flag             0\n",
      "price            0\n",
      "currency_type    0\n",
      "data_source      0\n",
      "last_updated     0\n",
      "datetime         0\n",
      "dtype: int64\n"
     ]
    }
   ],
   "source": [
    "\n",
    "missing = df.isna().sum().sort_values(ascending=False)\n",
    "print(missing)\n",
    "\n",
    "# fill missing prices by interpolation + ffill/bfill\n",
    "df['price'] = (\n",
    "    df\n",
    "    .sort_values(['region','datetime'])\n",
    "    .groupby('region')['price']\n",
    "    .apply(lambda s: s.interpolate(limit=6).ffill().bfill())\n",
    ")\n",
    "\n",
    "# any other columns with missing?\n",
    "for col in df.columns[df.isna().any()]:\n",
    "    if col != 'price':\n",
    "        df[col] = df[col].fillna(method='ffill').fillna(0)\n",
    "\n",
    "# check\n",
    "print(df.isna().sum())\n",
    "\n"
   ]
  },
  {
   "cell_type": "markdown",
   "id": "7523f258-ab6a-463e-8e00-deb2472bd635",
   "metadata": {},
   "source": [
    "## Handle Duplicates\n",
    "\n",
    "Identify duplicates and remove them"
   ]
  },
  {
   "cell_type": "code",
   "execution_count": 6,
   "id": "83438ded-9349-4bbb-b60c-6730a6a1bc4b",
   "metadata": {},
   "outputs": [
    {
     "name": "stdout",
     "output_type": "stream",
     "text": [
      "Before: (1831555, 10)\n",
      "After: (1831338, 10)\n"
     ]
    }
   ],
   "source": [
    "\n",
    "print(\"Before:\", df.shape)\n",
    "df = df.drop_duplicates(subset=['region','datetime'])\n",
    "print(\"After:\", df.shape)\n"
   ]
  },
  {
   "cell_type": "markdown",
   "id": "af2a1520-5170-4516-aad9-b6ef364ceef5",
   "metadata": {},
   "source": [
    "## Handle Outliers\n",
    "\n",
    "Identify outliers and remove or corret them"
   ]
  },
  {
   "cell_type": "code",
   "execution_count": 7,
   "id": "69f6e351-f568-427d-bf33-915064fd0d15",
   "metadata": {},
   "outputs": [
    {
     "name": "stdout",
     "output_type": "stream",
     "text": [
      "Outliers handled, any NaN in price? False\n"
     ]
    }
   ],
   "source": [
    "mask = ~df['price'].between(0,1000)\n",
    "df.loc[mask,'price'] = np.nan\n",
    "\n",
    "# refill price gaps\n",
    "df['price'] = (\n",
    "    df\n",
    "    .sort_values(['region','datetime'])\n",
    "    .groupby('region')['price']\n",
    "    .apply(lambda s: s.interpolate(limit=6).ffill().bfill())\n",
    ")\n",
    "\n",
    "print(\"Outliers handled, any NaN in price?\", df['price'].isna().any())\n"
   ]
  },
  {
   "cell_type": "markdown",
   "id": "ec88a053-b665-4bf8-88fc-59e3ac830d15",
   "metadata": {},
   "source": [
    "## Handle Incorrect Data Types"
   ]
  },
  {
   "cell_type": "code",
   "execution_count": 8,
   "id": "ebe052cc-6543-4d42-a887-26da3fcc353e",
   "metadata": {},
   "outputs": [
    {
     "name": "stdout",
     "output_type": "stream",
     "text": [
      "Unnamed: 0                      int64\n",
      "fecha                  datetime64[ns]\n",
      "hora                            int32\n",
      "sistema                        object\n",
      "bandera                         int32\n",
      "precio                        float64\n",
      "tipo_moneda                     int32\n",
      "origen_dato                     int32\n",
      "fecha_actualizacion            object\n",
      "datetime               datetime64[ns]\n",
      "dtype: object\n"
     ]
    }
   ],
   "source": [
    "\n",
    "df['region'] = df['region'].astype(str)\n",
    "df['price']  = df['price'].astype(float)\n",
    "df['datetime'] = pd.to_datetime(df['datetime'])\n",
    "print(df.dtypes)\n"
   ]
  },
  {
   "cell_type": "markdown",
   "id": "b4b81f4b-086b-47bb-8001-e3bca4dfcf01",
   "metadata": {},
   "source": [
    "## Visualize Data\n",
    "\n",
    "Use graphes, plots and/or diagrams to visualize the data"
   ]
  },
  {
   "cell_type": "code",
   "execution_count": 8,
   "id": "3288f622-4d5c-4de6-8302-51a60377e8bb",
   "metadata": {},
   "outputs": [
    {
     "data": {
      "image/png": "[encoded data removed]",
      "text/plain": [
       "<Figure size 576x288 with 1 Axes>"
      ]
     },
     "metadata": {
      "needs_background": "light"
     },
     "output_type": "display_data"
    },
    {
     "data": {
      "image/png": "[encoded data removed]",
      "text/plain": [
       "<Figure size 720x288 with 1 Axes>"
      ]
     },
     "metadata": {
      "needs_background": "light"
     },
     "output_type": "display_data"
    },
    {
     "data": {
      "image/png": "[encoded data removed]",
      "text/plain": [
       "<Figure size 576x288 with 1 Axes>"
      ]
     },
     "metadata": {
      "needs_background": "light"
     },
     "output_type": "display_data"
    }
   ],
   "source": [
    "# 6. Visualize Data (beschriftet und formatiert)\n",
    "import matplotlib.pyplot as plt\n",
    "\n",
    "# a) Histogramm aller Preise\n",
    "plt.figure(figsize=(8,4))\n",
    "plt.hist(df['price'], bins=50)\n",
    "plt.title(\"Verteilung der täglichen Energiepreise\")\n",
    "plt.xlabel(\"Preis (€)\")\n",
    "plt.ylabel(\"Anzahl der Tage\")\n",
    "plt.grid(axis='y', alpha=0.3)\n",
    "plt.tight_layout()\n",
    "plt.show()\n",
    "\n",
    "\n",
    "# b) Zeitreihe für das Marktgebiet 'DE'\n",
    "de = df[df['region']=='DE'].set_index('datetime')['price']\n",
    "plt.figure(figsize=(10,4))\n",
    "plt.plot(de.index, de.values, label=\"DE: Tagespreis\")\n",
    "plt.title(\"Zeitreihe der täglichen Energiepreise in Deutschland (DE)\")\n",
    "plt.xlabel(\"Datum\")\n",
    "plt.ylabel(\"Preis (€)\")\n",
    "plt.legend(loc=\"upper right\")\n",
    "plt.xticks(rotation=45)\n",
    "plt.grid(alpha=0.3)\n",
    "plt.tight_layout()\n",
    "plt.show()\n",
    "\n",
    "\n",
    "# c) Boxplot: Preisverteilung für die 5 aktivsten Marktgebiete\n",
    "top5 = df['region'].value_counts().index[:5]\n",
    "data_top5 = [df[df['region']==s]['price'] for s in top5]\n",
    "\n",
    "plt.figure(figsize=(8,4))\n",
    "plt.boxplot(data_top5, labels=top5, showfliers=False)\n",
    "plt.title(\"Preisverteilung je Marktgebiet (Top 5 nach Datenmenge)\")\n",
    "plt.xlabel(\"Marktgebiet (region)\")\n",
    "plt.ylabel(\"Preis (€)\")\n",
    "plt.grid(axis='y', alpha=0.3)\n",
    "plt.tight_layout()\n",
    "plt.show()\n",
    "\n"
   ]
  },
  {
   "cell_type": "markdown",
   "id": "b1fe4e07-2241-44dc-af0d-c4b08e4ddb2e",
   "metadata": {},
   "source": [
    "## Save Cleaned Data"
   ]
  },
  {
   "cell_type": "code",
   "execution_count": 14,
   "id": "a5cdee23-dc0a-4bc0-a3c3-32c0a361af35",
   "metadata": {},
   "outputs": [],
   "source": [
    "df.to_csv(\"../data/processed/clean_EU_energy_data.csv\", index=False)"
   ]
  }
 ],
 "metadata": {
  "kernelspec": {
   "display_name": "Python 3",
   "language": "python",
   "name": "python3"
  },
  "language_info": {
   "codemirror_mode": {
    "name": "ipython",
    "version": 3
   },
   "file_extension": ".py",
   "mimetype": "text/x-python",
   "name": "python",
   "nbconvert_exporter": "python",
   "pygments_lexer": "ipython3",
   "version": "3.8.8"
  }
 },
 "nbformat": 4,
 "nbformat_minor": 5
}
